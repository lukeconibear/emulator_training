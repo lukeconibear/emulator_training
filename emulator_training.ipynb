{
 "cells": [
  {
   "cell_type": "markdown",
   "id": "00d82b3c-d28b-4566-be06-1e570e24ff4f",
   "metadata": {},
   "source": [
    "# Emulation of air quality in China"
   ]
  },
  {
   "cell_type": "markdown",
   "id": "fb71a32c-d794-490a-91ef-137e4bf636b5",
   "metadata": {},
   "source": [
    "[![Open in Colab](https://colab.research.google.com/assets/colab-badge.svg)](https://colab.research.google.com/github/lukeconibear/emulator_training/blob/main/emulator_training.ipynb)"
   ]
  },
  {
   "cell_type": "code",
   "execution_count": null,
   "id": "9be01827-dcd1-4bd2-a6ed-ecdb242faa19",
   "metadata": {},
   "outputs": [],
   "source": [
    "import sys\n",
    "IN_COLAB = 'google.colab' in sys.modules"
   ]
  },
  {
   "cell_type": "markdown",
   "id": "4a065fe1-c43c-4041-926b-86691613129d",
   "metadata": {},
   "source": [
    "![emulator.png](https://user-images.githubusercontent.com/19871268/128219782-a93b83a1-eafa-4e06-851e-92b4e10c256b.png)\n",
    "\n",
    "Images [1](https://www.nasa.gov/content/a-portrait-of-global-winds/), [2](https://www.aidanscannell.com/post/gaussian-process-regression/), and [3](http://6degreesoffreedom.co/circle-random-sampling/).  "
   ]
  },
  {
   "cell_type": "markdown",
   "id": "2d5b035c-64c9-42f4-823e-d1130a512c77",
   "metadata": {},
   "source": [
    "## Approach\n",
    "\n",
    "### Problem\n",
    "1. Identify\n",
    "    - What is the problem you're trying to solve?\n",
    "2. Inputs\n",
    "    - What inputs go into the emulator?\n",
    "3. Outputs\n",
    "    - What will the emulator predict?\n",
    "\n",
    "### Simulations\n",
    "4. Design\n",
    "    - Determine what the simulations will be (taking account of the inputs above).  \n",
    "5. Run\n",
    "    - Perform these simulations (including a control run).  \n",
    "6. Evaluate\n",
    "    - Compare the control simulation to measurements to ensure accurately represents the outputs above.\n",
    "\n",
    "### Emulators\n",
    "7. Design\n",
    "    - Optimise the design of the emulators.  \n",
    "8. Training\n",
    "    - Train the emulators on the simulation data.\n",
    "9. Evaluate\n",
    "    - Test the emulators on the held-out test data.\n",
    "10. Predict\n",
    "    - Use the emulators for new predictions."
   ]
  },
  {
   "cell_type": "markdown",
   "id": "e0d5c832-1f7a-4161-a64a-fceda6a1a5ce",
   "metadata": {},
   "source": [
    "## Case study"
   ]
  },
  {
   "cell_type": "markdown",
   "id": "df881c26-1acd-4100-b016-e0a7915010a7",
   "metadata": {},
   "source": [
    "### 1. Problem: Identify"
   ]
  },
  {
   "cell_type": "markdown",
   "id": "d272bfce-d026-4d43-916f-66e565d47d4f",
   "metadata": {},
   "source": [
    "Predict air quality from emission changes.  "
   ]
  },
  {
   "cell_type": "markdown",
   "id": "6048a688-7995-4a5e-a6fa-e7d9f68f5000",
   "metadata": {},
   "source": [
    "### 2. Problem: Inputs"
   ]
  },
  {
   "cell_type": "markdown",
   "id": "fe9b6f8e-cc95-437b-a530-e405311af975",
   "metadata": {},
   "source": [
    "5 inputs, key anthropogenic emission sectors:  \n",
    "- Residential (RES)\n",
    "- Industrial (IND)\n",
    "- Land transport (TRA)\n",
    "- Agriculture (AGR)\n",
    "- Power generation (ENE)"
   ]
  },
  {
   "cell_type": "code",
   "execution_count": 186,
   "id": "f78da41b-8085-47f0-a0a7-83c74703434c",
   "metadata": {},
   "outputs": [],
   "source": [
    "sectors = ['RES', 'IND', 'TRA', 'AGR', 'ENE']"
   ]
  },
  {
   "cell_type": "markdown",
   "id": "fc846867-c0e3-408f-85aa-e46f889631c9",
   "metadata": {},
   "source": [
    "### 3. Problem: Outputs"
   ]
  },
  {
   "cell_type": "markdown",
   "id": "9ad6df74-3efa-4da6-bc29-bb7818f02d0f",
   "metadata": {},
   "source": [
    "1 output: PM$_{2.5}$ concentrations.  "
   ]
  },
  {
   "cell_type": "code",
   "execution_count": 185,
   "id": "290c9c98-79c6-474e-b9e0-51008cf1cac5",
   "metadata": {},
   "outputs": [],
   "source": [
    "output = 'PM2_5_DRY'"
   ]
  },
  {
   "cell_type": "markdown",
   "id": "ff8357c4-aa02-49e8-9b2f-331b75e7b7ab",
   "metadata": {},
   "source": [
    "### 4. Simulations: Design"
   ]
  },
  {
   "cell_type": "markdown",
   "id": "12b3dd5f-a16b-4cf4-835e-16e292239a1a",
   "metadata": {},
   "source": [
    "Maximin [Latin-hypercube design](https://en.wikipedia.org/wiki/Latin_hypercube_sampling) using [pyDOE's](https://pythonhosted.org/pyDOE/index.html) [`lhs`](https://pythonhosted.org/pyDOE/randomized.html#latin-hypercube-lhs) method.\n",
    "- For training, the number of simulation runs required is 10 times the number of inputs to adequately cover the parameter space (e.g., for 5 inputs, you'll need 50 runs).  \n",
    "- For testing, have a separate set of simulations. A smaller number will suffice (e.g., for 5 inputs, 5 test simulations).  \n",
    "- Near-random sample of values across the whole parameter space.  \n",
    "- Maxi-min: Decide on a maximum and minimum value for the inputs, defaults to 1.0 and 0.0.  \n",
    "- Choose number of iterations for the sampling (100,000 is common, though using 1,000 here is the example to run faster).  "
   ]
  },
  {
   "cell_type": "code",
   "execution_count": null,
   "id": "a43a3ac8-f4f6-4924-a55c-cf465e5e4f28",
   "metadata": {},
   "outputs": [],
   "source": [
    "if IN_COLAB:\n",
    "    !pip install --upgrade pyDOE"
   ]
  },
  {
   "cell_type": "code",
   "execution_count": 21,
   "id": "754fce68-3ac8-496b-892a-ba209c01bfbe",
   "metadata": {},
   "outputs": [],
   "source": [
    "import pandas as pd\n",
    "from pyDOE import lhs\n",
    "import seaborn as sns\n",
    "import matplotlib.pyplot as plt"
   ]
  },
  {
   "cell_type": "code",
   "execution_count": 63,
   "id": "b4f67691-ad0b-478a-920d-dd004986f9c5",
   "metadata": {},
   "outputs": [],
   "source": [
    "number_inputs = 5\n",
    "iterations = 1_000 # use 100_000 in actual work\n",
    "\n",
    "# create latin hypercube design, sampled between 0 (min) and 1 (max)\n",
    "design_train = lhs(\n",
    "    number_inputs, \n",
    "    samples=number_inputs * 10, \n",
    "    criterion='maximin', \n",
    "    iterations=iterations)\n",
    "\n",
    "design_test = lhs(\n",
    "    number_inputs, \n",
    "    samples=number_inputs, \n",
    "    criterion='maximin', \n",
    "    iterations=iterations)\n",
    "\n",
    "# change scaling of max/min if appropriate\n",
    "max_value = 1.5 # scale inputs up to 150% of baseline\n",
    "\n",
    "design_train = design_train * max_value\n",
    "design_test = design_test * max_value"
   ]
  },
  {
   "cell_type": "code",
   "execution_count": 64,
   "id": "72783028-1826-48c3-b16a-732883ec8e83",
   "metadata": {},
   "outputs": [],
   "source": [
    "# convert numpy arrays to pandas dataframes\n",
    "inputs_train = pd.DataFrame(data=design_train, columns=sectors)\n",
    "inputs_test = pd.DataFrame(data=design_test, columns=sectors)"
   ]
  },
  {
   "cell_type": "code",
   "execution_count": 65,
   "id": "41a895b3-ec63-4596-bdc3-fad8977e7522",
   "metadata": {},
   "outputs": [
    {
     "data": {
      "text/html": [
       "<div>\n",
       "<style scoped>\n",
       "    .dataframe tbody tr th:only-of-type {\n",
       "        vertical-align: middle;\n",
       "    }\n",
       "\n",
       "    .dataframe tbody tr th {\n",
       "        vertical-align: top;\n",
       "    }\n",
       "\n",
       "    .dataframe thead th {\n",
       "        text-align: right;\n",
       "    }\n",
       "</style>\n",
       "<table border=\"1\" class=\"dataframe\">\n",
       "  <thead>\n",
       "    <tr style=\"text-align: right;\">\n",
       "      <th></th>\n",
       "      <th>RES</th>\n",
       "      <th>IND</th>\n",
       "      <th>TRA</th>\n",
       "      <th>AGR</th>\n",
       "      <th>ENE</th>\n",
       "    </tr>\n",
       "  </thead>\n",
       "  <tbody>\n",
       "    <tr>\n",
       "      <th>count</th>\n",
       "      <td>50.000000</td>\n",
       "      <td>50.000000</td>\n",
       "      <td>50.000000</td>\n",
       "      <td>50.000000</td>\n",
       "      <td>50.000000</td>\n",
       "    </tr>\n",
       "    <tr>\n",
       "      <th>mean</th>\n",
       "      <td>0.749161</td>\n",
       "      <td>0.750940</td>\n",
       "      <td>0.749607</td>\n",
       "      <td>0.750738</td>\n",
       "      <td>0.749956</td>\n",
       "    </tr>\n",
       "    <tr>\n",
       "      <th>std</th>\n",
       "      <td>0.438166</td>\n",
       "      <td>0.435452</td>\n",
       "      <td>0.436720</td>\n",
       "      <td>0.436484</td>\n",
       "      <td>0.438847</td>\n",
       "    </tr>\n",
       "    <tr>\n",
       "      <th>min</th>\n",
       "      <td>0.002469</td>\n",
       "      <td>0.023967</td>\n",
       "      <td>0.025962</td>\n",
       "      <td>0.017563</td>\n",
       "      <td>0.007330</td>\n",
       "    </tr>\n",
       "    <tr>\n",
       "      <th>25%</th>\n",
       "      <td>0.389154</td>\n",
       "      <td>0.376189</td>\n",
       "      <td>0.392263</td>\n",
       "      <td>0.379415</td>\n",
       "      <td>0.386675</td>\n",
       "    </tr>\n",
       "    <tr>\n",
       "      <th>50%</th>\n",
       "      <td>0.751334</td>\n",
       "      <td>0.742579</td>\n",
       "      <td>0.755435</td>\n",
       "      <td>0.754280</td>\n",
       "      <td>0.747275</td>\n",
       "    </tr>\n",
       "    <tr>\n",
       "      <th>75%</th>\n",
       "      <td>1.123460</td>\n",
       "      <td>1.111922</td>\n",
       "      <td>1.114818</td>\n",
       "      <td>1.114001</td>\n",
       "      <td>1.108076</td>\n",
       "    </tr>\n",
       "    <tr>\n",
       "      <th>max</th>\n",
       "      <td>1.487578</td>\n",
       "      <td>1.477022</td>\n",
       "      <td>1.477576</td>\n",
       "      <td>1.478221</td>\n",
       "      <td>1.491858</td>\n",
       "    </tr>\n",
       "  </tbody>\n",
       "</table>\n",
       "</div>"
      ],
      "text/plain": [
       "             RES        IND        TRA        AGR        ENE\n",
       "count  50.000000  50.000000  50.000000  50.000000  50.000000\n",
       "mean    0.749161   0.750940   0.749607   0.750738   0.749956\n",
       "std     0.438166   0.435452   0.436720   0.436484   0.438847\n",
       "min     0.002469   0.023967   0.025962   0.017563   0.007330\n",
       "25%     0.389154   0.376189   0.392263   0.379415   0.386675\n",
       "50%     0.751334   0.742579   0.755435   0.754280   0.747275\n",
       "75%     1.123460   1.111922   1.114818   1.114001   1.108076\n",
       "max     1.487578   1.477022   1.477576   1.478221   1.491858"
      ]
     },
     "execution_count": 65,
     "metadata": {},
     "output_type": "execute_result"
    }
   ],
   "source": [
    "inputs_train.describe()"
   ]
  },
  {
   "cell_type": "code",
   "execution_count": 66,
   "id": "5e31b130-9ab4-4f53-9864-71ac213f08c9",
   "metadata": {},
   "outputs": [
    {
     "data": {
      "image/png": "[encoded data removed]",
      "text/plain": [
       "<Figure size 900x900 with 30 Axes>"
      ]
     },
     "metadata": {
      "needs_background": "light"
     },
     "output_type": "display_data"
    }
   ],
   "source": [
    "# plot the pairs as a histogram to check random sample over parameter space\n",
    "sns.pairplot(inputs_train, diag_kind='hist')\n",
    "plt.show()"
   ]
  },
  {
   "cell_type": "code",
   "execution_count": null,
   "id": "c07abf7b-a5e9-44b6-8b30-08faac0354a1",
   "metadata": {},
   "outputs": [],
   "source": [
    "if IN_COLAB:\n",
    "    !wget https://raw.githubusercontent.com/lukeconibear/emulator_training/main/latin_hypercube_inputs_train.csv\n",
    "    !wget https://raw.githubusercontent.com/lukeconibear/emulator_training/main/latin_hypercube_inputs_test.csv"
   ]
  },
  {
   "cell_type": "code",
   "execution_count": 423,
   "id": "92c1877d-7426-420c-984a-8df02890b50f",
   "metadata": {},
   "outputs": [],
   "source": [
    "# read in actual ones used\n",
    "inputs_train = pd.read_csv('latin_hypercube_inputs_train.csv')\n",
    "inputs_test = pd.read_csv('latin_hypercube_inputs_test.csv')"
   ]
  },
  {
   "cell_type": "code",
   "execution_count": 424,
   "id": "0defab88-9b23-49b5-b566-2b30bc43af28",
   "metadata": {},
   "outputs": [],
   "source": [
    "# convert to arrays\n",
    "X_train, X_test = inputs_train.values, inputs_test.values"
   ]
  },
  {
   "cell_type": "markdown",
   "id": "4b1b8667-87da-4179-ae7a-577404e28ba9",
   "metadata": {},
   "source": [
    "### 5. Simulations: Run"
   ]
  },
  {
   "cell_type": "markdown",
   "id": "742b4b2f-151f-417c-8115-40db063e6394",
   "metadata": {},
   "source": [
    "Use a complex air quality model ([WRFChem](https://wrfchem-leeds.github.io/WRFotron/)).  \n",
    "- 50 years of training simulations.  \n",
    "- 5 years of testing simulations.  \n",
    "- 1 year for the control simulation.  \n",
    "\n",
    "*Warning: this takes a long time, even on a [high-performance computer](https://arcdocs.leeds.ac.uk/welcome.html).*"
   ]
  },
  {
   "cell_type": "code",
   "execution_count": null,
   "id": "475e60da-6bbe-401d-b770-2ee25ec43c14",
   "metadata": {},
   "outputs": [],
   "source": [
    "if IN_COLAB:\n",
    "    !wget https://raw.githubusercontent.com/lukeconibear/emulator_training/main/df_train.csv\n",
    "    !wget https://raw.githubusercontent.com/lukeconibear/emulator_training/main/df_test.csv"
   ]
  },
  {
   "cell_type": "code",
   "execution_count": 129,
   "id": "d11568df-e7de-4ca6-bf6b-91b9139bb90c",
   "metadata": {},
   "outputs": [],
   "source": [
    "df_train = pd.read_csv('df_train.csv', index_col='Unnamed: 0')\n",
    "df_test = pd.read_csv('df_test.csv', index_col='Unnamed: 0')"
   ]
  },
  {
   "cell_type": "code",
   "execution_count": 134,
   "id": "5ebc6c74-0aca-4211-a08b-ada596cc53fa",
   "metadata": {},
   "outputs": [
    {
     "data": {
      "text/html": [
       "<div>\n",
       "<style scoped>\n",
       "    .dataframe tbody tr th:only-of-type {\n",
       "        vertical-align: middle;\n",
       "    }\n",
       "\n",
       "    .dataframe tbody tr th {\n",
       "        vertical-align: top;\n",
       "    }\n",
       "\n",
       "    .dataframe thead th {\n",
       "        text-align: right;\n",
       "    }\n",
       "</style>\n",
       "<table border=\"1\" class=\"dataframe\">\n",
       "  <thead>\n",
       "    <tr style=\"text-align: right;\">\n",
       "      <th></th>\n",
       "      <th>lat</th>\n",
       "      <th>lon</th>\n",
       "      <th>PM2_5_DRY</th>\n",
       "    </tr>\n",
       "  </thead>\n",
       "  <tbody>\n",
       "    <tr>\n",
       "      <th>count</th>\n",
       "      <td>763900.000000</td>\n",
       "      <td>763900.000000</td>\n",
       "      <td>763900.000000</td>\n",
       "    </tr>\n",
       "    <tr>\n",
       "      <th>mean</th>\n",
       "      <td>36.393703</td>\n",
       "      <td>103.816550</td>\n",
       "      <td>26.587433</td>\n",
       "    </tr>\n",
       "    <tr>\n",
       "      <th>std</th>\n",
       "      <td>7.174413</td>\n",
       "      <td>14.381102</td>\n",
       "      <td>22.442314</td>\n",
       "    </tr>\n",
       "    <tr>\n",
       "      <th>min</th>\n",
       "      <td>18.250000</td>\n",
       "      <td>73.750000</td>\n",
       "      <td>4.906912</td>\n",
       "    </tr>\n",
       "    <tr>\n",
       "      <th>25%</th>\n",
       "      <td>31.000000</td>\n",
       "      <td>91.250000</td>\n",
       "      <td>11.606082</td>\n",
       "    </tr>\n",
       "    <tr>\n",
       "      <th>50%</th>\n",
       "      <td>36.500000</td>\n",
       "      <td>104.750000</td>\n",
       "      <td>17.319699</td>\n",
       "    </tr>\n",
       "    <tr>\n",
       "      <th>75%</th>\n",
       "      <td>41.750000</td>\n",
       "      <td>115.750000</td>\n",
       "      <td>33.995969</td>\n",
       "    </tr>\n",
       "    <tr>\n",
       "      <th>max</th>\n",
       "      <td>53.250000</td>\n",
       "      <td>134.500000</td>\n",
       "      <td>180.305663</td>\n",
       "    </tr>\n",
       "  </tbody>\n",
       "</table>\n",
       "</div>"
      ],
      "text/plain": [
       "                 lat            lon      PM2_5_DRY\n",
       "count  763900.000000  763900.000000  763900.000000\n",
       "mean       36.393703     103.816550      26.587433\n",
       "std         7.174413      14.381102      22.442314\n",
       "min        18.250000      73.750000       4.906912\n",
       "25%        31.000000      91.250000      11.606082\n",
       "50%        36.500000     104.750000      17.319699\n",
       "75%        41.750000     115.750000      33.995969\n",
       "max        53.250000     134.500000     180.305663"
      ]
     },
     "execution_count": 134,
     "metadata": {},
     "output_type": "execute_result"
    }
   ],
   "source": [
    "df_train.describe()"
   ]
  },
  {
   "cell_type": "code",
   "execution_count": 305,
   "id": "f0213aaa-25f1-4a55-b02c-b60438f0c84f",
   "metadata": {},
   "outputs": [
    {
     "name": "stdout",
     "output_type": "stream",
     "text": [
      "There are 15278 grid cells in the domain.\n"
     ]
    }
   ],
   "source": [
    "gridcells = df_train[['lat', 'lon']].drop_duplicates().values.tolist()\n",
    "\n",
    "print(f'There are {len(gridcells)} grid cells in the domain.')"
   ]
  },
  {
   "cell_type": "code",
   "execution_count": 306,
   "id": "b69ef19d-5fc9-416c-b6a9-7fa3a9175c17",
   "metadata": {},
   "outputs": [],
   "source": [
    "# pick a random grid cell (no reproducible seed, lucky dip!)\n",
    "import random\n",
    "\n",
    "random_gridcell_lat, random_gridcell_lon = random.choice(gridcells)"
   ]
  },
  {
   "cell_type": "code",
   "execution_count": 411,
   "id": "f064c44d-40d2-466e-8808-4b2acfba5684",
   "metadata": {},
   "outputs": [
    {
     "name": "stdout",
     "output_type": "stream",
     "text": [
      "Lat = 36.25\n",
      "Lon = 101.25\n"
     ]
    }
   ],
   "source": [
    "# lets see what you picked ...\n",
    "print(f'Lat = {random_gridcell_lat}')\n",
    "print(f'Lon = {random_gridcell_lon}')"
   ]
  },
  {
   "cell_type": "code",
   "execution_count": 410,
   "id": "b3fd2f51-fefd-46d7-a812-f2e1fbb53e62",
   "metadata": {},
   "outputs": [
    {
     "data": {
      "text/plain": [
       "array([[11.25783996],\n",
       "       [19.1375564 ],\n",
       "       [16.50302699],\n",
       "       [18.36644343],\n",
       "       [15.64524382],\n",
       "       [18.44202067],\n",
       "       [17.01299307],\n",
       "       [14.7966861 ],\n",
       "       [15.22066507],\n",
       "       [16.34073539],\n",
       "       [14.7404012 ],\n",
       "       [16.41348505],\n",
       "       [19.94289739],\n",
       "       [15.13606447],\n",
       "       [14.780315  ],\n",
       "       [14.11928433],\n",
       "       [18.22491677],\n",
       "       [15.76506092],\n",
       "       [13.38877843],\n",
       "       [13.58062386],\n",
       "       [16.28242607],\n",
       "       [19.70962642],\n",
       "       [13.72079868],\n",
       "       [13.20343779],\n",
       "       [15.31079062],\n",
       "       [15.56811214],\n",
       "       [14.07423371],\n",
       "       [19.6386412 ],\n",
       "       [14.96942271],\n",
       "       [10.87399813],\n",
       "       [13.19465483],\n",
       "       [11.06842817],\n",
       "       [15.12886535],\n",
       "       [16.27218461],\n",
       "       [12.92226409],\n",
       "       [13.18218928],\n",
       "       [19.24891698],\n",
       "       [13.80747604],\n",
       "       [16.2235145 ],\n",
       "       [13.16871895],\n",
       "       [16.30549097],\n",
       "       [13.78906511],\n",
       "       [14.92721292],\n",
       "       [14.10567161],\n",
       "       [13.75040662],\n",
       "       [13.90854332],\n",
       "       [13.34649393],\n",
       "       [13.3524085 ],\n",
       "       [14.03676183],\n",
       "       [15.75788715]])"
      ]
     },
     "execution_count": 410,
     "metadata": {},
     "output_type": "execute_result"
    }
   ],
   "source": [
    "# output for \n",
    "\n",
    "random_gridcell_y_train = df_train.loc[df_train.lat == random_gridcell_lat].loc[df_train.lon == random_gridcell_lon][[output]].values\n",
    "random_gridcell_y_test = df_test.loc[df_test.lat == random_gridcell_lat].loc[df_test.lon == random_gridcell_lon][[output]].values\n",
    "\n",
    "random_gridcell_y_train"
   ]
  },
  {
   "cell_type": "markdown",
   "id": "8e5eaadd-e51e-4bdf-b36a-17aff3b3ca4a",
   "metadata": {
    "tags": []
   },
   "source": [
    "### 6. Simulations: Evaluate"
   ]
  },
  {
   "cell_type": "markdown",
   "id": "951c6a34-484b-4289-9484-8d4948573982",
   "metadata": {},
   "source": [
    "Evaluate it against measurements to ensure it accurately predicts outputs.  "
   ]
  },
  {
   "cell_type": "markdown",
   "id": "b2bf97c1-e5be-4e32-bf3f-4a327a0c0df2",
   "metadata": {},
   "source": [
    "### 7. Emulators: Design"
   ]
  },
  {
   "cell_type": "markdown",
   "id": "a720856e-8dd5-42cb-9637-a28c688fdc34",
   "metadata": {},
   "source": [
    "We optimised the design and hyperparameters of the model using genetic programming (automatic machine learning tool, [TPOT](http://epistasislab.github.io/tpot/)).  \n",
    "\n",
    "Our final design included:\n",
    "- Gaussian process regressors are implemented in [scikit-learn](https://scikit-learn.org/stable/modules/generated/sklearn.gaussian_process.GaussianProcessRegressor.html?highlight=gaussian%20process#sklearn.gaussian_process.GaussianProcessRegressor).  \n",
    "- Preprocessing the inputs with a power transform ([Yeo-Johnson](https://scikit-learn.org/stable/modules/generated/sklearn.preprocessing.PowerTransformer.html)) to make them more Gaussian-like.  \n",
    "- We used a [Matern](https://scikit-learn.org/stable/modules/generated/sklearn.gaussian_process.kernels.Matern.html?highlight=matern#sklearn.gaussian_process.kernels.Matern) kernel.  "
   ]
  },
  {
   "cell_type": "code",
   "execution_count": 412,
   "id": "be071526-c80e-4ca3-b21a-bb8d51384c19",
   "metadata": {},
   "outputs": [],
   "source": [
    "from sklearn.pipeline import make_pipeline\n",
    "from sklearn.preprocessing import PowerTransformer\n",
    "from sklearn.gaussian_process import GaussianProcessRegressor\n",
    "from sklearn.gaussian_process.kernels import Matern"
   ]
  },
  {
   "cell_type": "code",
   "execution_count": 413,
   "id": "ee24b1ca-27e1-4e4b-a74b-7702e023a9d9",
   "metadata": {},
   "outputs": [
    {
     "data": {
      "text/plain": [
       "Pipeline(steps=[('powertransformer', PowerTransformer()),\n",
       "                ('gaussianprocessregressor',\n",
       "                 GaussianProcessRegressor(kernel=Matern(length_scale=3.4, nu=2.5),\n",
       "                                          n_restarts_optimizer=240))])"
      ]
     },
     "execution_count": 413,
     "metadata": {},
     "output_type": "execute_result"
    }
   ],
   "source": [
    "emulator = make_pipeline(\n",
    "    PowerTransformer(),\n",
    "    GaussianProcessRegressor(\n",
    "        kernel=Matern(length_scale=3.4, nu=2.5), \n",
    "        n_restarts_optimizer=240, \n",
    "        normalize_y=False)\n",
    ")\n",
    "emulator"
   ]
  },
  {
   "cell_type": "markdown",
   "id": "0c159c49-0a78-420f-bb2f-8143e50e6ed9",
   "metadata": {},
   "source": [
    "### 8. Emulators: Training"
   ]
  },
  {
   "cell_type": "markdown",
   "id": "880d2306-963e-41ce-a81d-17d2f489730b",
   "metadata": {},
   "source": [
    "The emulators were trained on the 50 years of simulator data (in parallel on a high-performance computer).  \n",
    "Example below for the single random grid cell."
   ]
  },
  {
   "cell_type": "code",
   "execution_count": 414,
   "id": "442df7c2-202a-4759-9ffa-e1e9edc7b946",
   "metadata": {},
   "outputs": [
    {
     "data": {
      "text/plain": [
       "Pipeline(steps=[('powertransformer', PowerTransformer()),\n",
       "                ('gaussianprocessregressor',\n",
       "                 GaussianProcessRegressor(kernel=Matern(length_scale=3.4, nu=2.5),\n",
       "                                          n_restarts_optimizer=240))])"
      ]
     },
     "execution_count": 414,
     "metadata": {},
     "output_type": "execute_result"
    }
   ],
   "source": [
    "emulator.fit(X_train, random_gridcell_y_train)"
   ]
  },
  {
   "cell_type": "markdown",
   "id": "69f0ab76-736a-45ff-8a74-b27ccd6b7da5",
   "metadata": {},
   "source": [
    "### 9. Emulators: Evaluate"
   ]
  },
  {
   "cell_type": "markdown",
   "id": "bc283718-1d2e-49e1-ba86-0aab85276bd1",
   "metadata": {},
   "source": [
    "Predict unseen test data and evaluate against simulated values."
   ]
  },
  {
   "cell_type": "code",
   "execution_count": 415,
   "id": "3458a0e7-6615-4353-b87f-cd3bc278a0a1",
   "metadata": {},
   "outputs": [],
   "source": [
    "from sklearn.metrics import mean_squared_error, r2_score\n",
    "import numpy as np\n",
    "import matplotlib\n",
    "import matplotlib.pyplot as plt\n",
    "import matplotlib.gridspec as gridspec"
   ]
  },
  {
   "cell_type": "code",
   "execution_count": 416,
   "id": "bf25ea34-7a35-4db2-a1e6-ac9229c11cc5",
   "metadata": {},
   "outputs": [],
   "source": [
    "def root_mean_squared_error(y_true, y_pred):\n",
    "    return np.round(np.sqrt(np.abs(mean_squared_error(y_true, y_pred))), decimals=4)\n",
    "\n",
    "def coefficient_of_determination(y_true, y_pred):\n",
    "    return np.round(r2_score(y_true, y_pred), decimals=4)"
   ]
  },
  {
   "cell_type": "code",
   "execution_count": 417,
   "id": "7ec6bb3f-5727-4b38-9473-43ac1848245e",
   "metadata": {},
   "outputs": [],
   "source": [
    "def create_scatter_plot(lat, lon, output, label, y_test, y_pred, rmse_test, r2_test):\n",
    "    fig = plt.figure(1, figsize=(5, 5))\n",
    "    gs = gridspec.GridSpec(1, 1)\n",
    "    ax = fig.add_subplot(gs[0])\n",
    "    ax.set_facecolor('whitesmoke')\n",
    "    plt.title(f'Random grid cell\\n(lat = {lat}, lon = {lon})', fontsize=14)\n",
    "    \n",
    "    limit = int(np.ceil(np.nanmax(random_gridcell_y_pred) / 5)) * 5\n",
    "    plt.xlim([0, limit])\n",
    "    plt.ylim([0, limit])\n",
    "    \n",
    "    ticks = np.linspace(0, 20, limit // int(limit / 5))\n",
    "    plt.xticks(ticks, fontsize=14)\n",
    "    plt.yticks(ticks, fontsize=14)\n",
    "    plt.xlabel('Simulator, ' + label, fontsize=14)\n",
    "    plt.ylabel('Emulator, ' + label, fontsize=14)\n",
    "    \n",
    "    plt.scatter(np.vstack(y_test), np.vstack(y_pred), s=50)\n",
    "    \n",
    "    x = np.arange(2 * np.ceil(limit))\n",
    "    plt.plot(x, x, color='grey', linestyle='--')\n",
    "    plt.plot(x, 0.5 * x, color='grey', linestyle='--')\n",
    "    plt.plot(x, 2 * x, color='grey', linestyle='--')\n",
    "    \n",
    "    text = \"R$^2$ = \" + str(r2_test) + \"\\nRMSE = \" + str(rmse_test)\n",
    "    at = matplotlib.offsetbox.AnchoredText(text, prop=dict(size=14), frameon=True, loc='upper left')\n",
    "    at.patch.set_boxstyle(\"round,pad=0.,rounding_size=0.2\")\n",
    "    ax.add_artist(at)"
   ]
  },
  {
   "cell_type": "code",
   "execution_count": 418,
   "id": "e7980d67-e6f9-4c2a-a0ea-9ef1b5c85e01",
   "metadata": {},
   "outputs": [
    {
     "data": {
      "text/plain": [
       "array([[13.37813162],\n",
       "       [12.42146203],\n",
       "       [19.99734164],\n",
       "       [15.70021713],\n",
       "       [15.63806688]])"
      ]
     },
     "execution_count": 418,
     "metadata": {},
     "output_type": "execute_result"
    }
   ],
   "source": [
    "random_gridcell_y_pred = emulator.predict(X_test)\n",
    "random_gridcell_y_pred"
   ]
  },
  {
   "cell_type": "code",
   "execution_count": 419,
   "id": "670c7950-70e9-471b-b3d0-5cdfffee87db",
   "metadata": {},
   "outputs": [
    {
     "name": "stdout",
     "output_type": "stream",
     "text": [
      "The random grid cell has a RSME value of: 0.1407 ugm-3\n",
      "The random grid cell has a R^2 value of:  0.9969\n"
     ]
    }
   ],
   "source": [
    "random_gridcell_rmse_test = root_mean_squared_error(random_gridcell_y_test, random_gridcell_y_pred)\n",
    "random_gridcell_r2_test = coefficient_of_determination(random_gridcell_y_test, random_gridcell_y_pred)\n",
    "\n",
    "print(f'The random grid cell has a RSME value of: {random_gridcell_rmse_test} ugm-3')\n",
    "print(f'The random grid cell has a R^2 value of:  {random_gridcell_r2_test}')"
   ]
  },
  {
   "cell_type": "code",
   "execution_count": 383,
   "id": "0c78d382-cc63-4bd8-80f4-d771a61bf914",
   "metadata": {},
   "outputs": [],
   "source": [
    "label = 'annual-mean PM$_{2.5}$\\nconcentrations (${\\mu}g$ $m^{-3}$)'"
   ]
  },
  {
   "cell_type": "code",
   "execution_count": 384,
   "id": "2f415200-d0ab-4057-98ca-e049d5b36d63",
   "metadata": {},
   "outputs": [
    {
     "data": {
      "image/png": "[encoded data removed]",
      "text/plain": [
       "<Figure size 360x360 with 1 Axes>"
      ]
     },
     "metadata": {
      "needs_background": "light"
     },
     "output_type": "display_data"
    }
   ],
   "source": [
    "# example for the random grid cell\n",
    "create_scatter_plot(\n",
    "    random_gridcell_lat,\n",
    "    random_gridcell_lon,\n",
    "    output, \n",
    "    label, \n",
    "    random_gridcell_y_test, \n",
    "    random_gridcell_y_pred, \n",
    "    random_gridcell_rmse_test,\n",
    "    random_gridcell_r2_test)"
   ]
  },
  {
   "cell_type": "markdown",
   "id": "fc92c5cf-e2d7-407f-b09e-b7757c9c9e85",
   "metadata": {},
   "source": [
    "We developed 1 emulator per grid cell from the simulator (15,278 grid cells) to capture the spatial distribution of the output."
   ]
  },
  {
   "cell_type": "markdown",
   "id": "68628fb4-25de-4591-ba72-ba07ab7fabf1",
   "metadata": {},
   "source": [
    "### 10. Emulators: Predict"
   ]
  },
  {
   "cell_type": "markdown",
   "id": "4db96674-e993-4cd6-b9ff-6bfb636c36d5",
   "metadata": {},
   "source": [
    "All 15,278 emulators were then used to predict air quality concentrations for all emission configurations within a 0−150% matrix of emission scaling factors at 20% increments (32,768 emission configurations)."
   ]
  },
  {
   "cell_type": "code",
   "execution_count": 430,
   "id": "6679b997-c919-45b5-8b09-c6ffbb3e9af6",
   "metadata": {},
   "outputs": [],
   "source": [
    "from IPython.display import IFrame"
   ]
  },
  {
   "cell_type": "code",
   "execution_count": 433,
   "id": "d60f93a3-3820-4815-90e9-ea4361686226",
   "metadata": {
    "tags": []
   },
   "outputs": [
    {
     "data": {
      "text/html": [
       "\n",
       "        <iframe\n",
       "            width=\"800\"\n",
       "            height=\"800\"\n",
       "            src=\"https://emulator.pythonanywhere.com/\"\n",
       "            frameborder=\"0\"\n",
       "            allowfullscreen\n",
       "            \n",
       "        ></iframe>\n",
       "        "
      ],
      "text/plain": [
       "<IPython.lib.display.IFrame at 0x7f803cc7eb00>"
      ]
     },
     "execution_count": 433,
     "metadata": {},
     "output_type": "execute_result"
    }
   ],
   "source": [
    "IFrame(\"https://emulator.pythonanywhere.com/\", width=800, height=800)"
   ]
  },
  {
   "cell_type": "markdown",
   "id": "0870d0d5-501d-447b-b585-96408a0e68bf",
   "metadata": {},
   "source": [
    "## Further information\n",
    "- Short-term air quality prediction.\n",
    "    - [Code](https://github.com/lukeconibear/emulator).\n",
    "    - Papers:\n",
    "        - *Conibear, L. Reddington, C. L., Silver, B. J., Chen, Y., Knote, C., Arnold, S. R., Spracklen, D. V. (2021). Statistical emulation of winter ambient fine particulate matter concentrations from emission changes in China, GeoHealth, [DOI](https://doi.org/10.1029/2021GH000391).*\n",
    "- Long-term air quality and public health prediction\n",
    "    - [Code](https://github.com/lukeconibear/emulator_annual).\n",
    "    - Papers:\n",
    "        - *Conibear, L. Reddington, C. L., Silver, B. J., Chen, Y., Knote, C., Arnold, S. R., Spracklen, D. V. (2021, in prep.). Machine Learning Emulation of Long−Term Air Pollution Exposure and Disease Burden from Emission Changes in China.*\n",
    "        - *Conibear, L. Reddington, C. L., Silver, B. J., Arnold, S. R., Turnock, S. T., Klimont, Z., Spracklen, D. V. (2021, in prep.). The Contribution of Emission Sources to the Future Air Pollution Disease Burden in China.*\n",
    "        - *Conibear, L. Reddington, C. L., Silver, B. J., Chen, Y., Knote, C., Arnold, S. R., Spracklen, D. V. (2021, in prep.). Emission Sector Impacts on Air Quality and Public Health in China from 2010−2020.*"
   ]
  }
 ],
 "metadata": {
  "kernelspec": {
   "display_name": "emulator_training",
   "language": "python",
   "name": "emulator_training"
  },
  "language_info": {
   "codemirror_mode": {
    "name": "ipython",
    "version": 3
   },
   "file_extension": ".py",
   "mimetype": "text/x-python",
   "name": "python",
   "nbconvert_exporter": "python",
   "pygments_lexer": "ipython3",
   "version": "3.10.0"
  }
 },
 "nbformat": 4,
 "nbformat_minor": 5
}
